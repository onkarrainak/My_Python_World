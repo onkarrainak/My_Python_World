{
 "cells": [
  {
   "cell_type": "code",
   "execution_count": 4,
   "id": "a4450774",
   "metadata": {},
   "outputs": [
    {
     "name": "stdout",
     "output_type": "stream",
     "text": [
      "Enter the number-: 10\n",
      "The number is Even\n"
     ]
    }
   ],
   "source": [
    "# 2.Write a program to check whether the number is even or not . If the number is even print yes otherwise print no \n",
    "number = int(input(\"Enter the number-: \"))\n",
    "if number % 2 == 0:\n",
    "    print(\"The number is Even\")\n",
    "else:\n",
    "    print(\"The number is not Even\")"
   ]
  },
  {
   "cell_type": "code",
   "execution_count": 1,
   "id": "ded45a53",
   "metadata": {
    "scrolled": true
   },
   "outputs": [
    {
     "name": "stdout",
     "output_type": "stream",
     "text": [
      "Enter the number 5\n",
      "no\n"
     ]
    }
   ],
   "source": [
    "# 3 Write a program to check the number is divisible by 5 and 2 .\n",
    "a = int(input(\"Enter the number \"))\n",
    "if a % 5 ==0 and a % 2==0:\n",
    "    print(\"yes\")\n",
    "else:\n",
    "    print(\"no\")"
   ]
  },
  {
   "cell_type": "code",
   "execution_count": 23,
   "id": "4d8fc1cb",
   "metadata": {},
   "outputs": [
    {
     "name": "stdout",
     "output_type": "stream",
     "text": [
      "Enter the Marks= 85\n",
      "B\n"
     ]
    }
   ],
   "source": [
    "# 4. Write a program to print grade marks. 90 print A\n",
    "#                                           90 - 80 print B\n",
    "#                                           80 - 70 print C\n",
    "#                                           70 - 60 print D\n",
    "#                                           60 - 50 print E\n",
    "#                                           print Fail\n",
    "marks = int(input(\"Enter the Marks= \"))\n",
    "if marks >=90:\n",
    "    print(\"A\")\n",
    "elif marks <= 90 and marks >= 80:\n",
    "    print(\"B\") \n",
    "elif marks <= 80 and marks >= 70:\n",
    "    print(\"C\") \n",
    "elif marks <= 70 and marks >= 60:\n",
    "    print(\"D\") \n",
    "elif marks <= 70 and marks >= 60:\n",
    "    print(\"E\") \n",
    "else:\n",
    "    print(\"Fail\")"
   ]
  },
  {
   "cell_type": "code",
   "execution_count": 40,
   "id": "4c1a92f0",
   "metadata": {},
   "outputs": [
    {
     "name": "stdout",
     "output_type": "stream",
     "text": [
      "Enter the number-:20\n",
      "Number is Divisible Both5 & 2 \n"
     ]
    }
   ],
   "source": [
    "# 5. Write a program to check the number is divisible by 5 and 2 (Using nested if else)\n",
    "number = int(input(\"Enter the number-:\"))\n",
    "if number % 5 == 0:\n",
    "    if number % 2 == 0:\n",
    "        print(\"Number is Divisible Both5 & 2 \")\n",
    "    else:\n",
    "        print(\"Number is not Divisible Both 5 & 2 \")\n",
    "else:\n",
    "    print(\"Number is not Divisible Both 5 & 2 \")\n",
    "    \n",
    "        "
   ]
  },
  {
   "cell_type": "code",
   "execution_count": 46,
   "id": "620a18a6",
   "metadata": {},
   "outputs": [
    {
     "name": "stdout",
     "output_type": "stream",
     "text": [
      "Enter the 1st number= 44\n",
      "Enter the 2nd number 44\n",
      "Both are same\n"
     ]
    }
   ],
   "source": [
    "# 6. Write a program to find largest of two numbers \n",
    "num1 = int(input(\"Enter the 1st number= \"))\n",
    "num2 = int(input(\"Enter the 2nd number \"))\n",
    "if num1 > num2:\n",
    "    print(\"1st number is Largest number\")\n",
    "elif num1 == num2:\n",
    "        print(\"Both are same\")\n",
    "else:\n",
    "    print(\"2nd is Largest number\")"
   ]
  },
  {
   "cell_type": "code",
   "execution_count": 52,
   "id": "e521e443",
   "metadata": {},
   "outputs": [
    {
     "name": "stdout",
     "output_type": "stream",
     "text": [
      "Enter the number44\n",
      "Enter the number55\n",
      "Enter the number10\n",
      "B is Largest\n"
     ]
    }
   ],
   "source": [
    "# 7. Write a program to find largest of three numbers\n",
    "a = int(input(\"Enter the number\"))\n",
    "b = int(input(\"Enter the number\"))\n",
    "c = int(input(\"Enter the number\"))\n",
    "if a > b:\n",
    "    if a > c:\n",
    "        print(\"A is Largest\")\n",
    "    else:\n",
    "        (\"C is Largest\")\n",
    "elif b > c:\n",
    "    print(\"B is Largest\")\n",
    "else:\n",
    "    print(\"c is Largest\")"
   ]
  },
  {
   "cell_type": "code",
   "execution_count": 58,
   "id": "4321dc5d",
   "metadata": {},
   "outputs": [
    {
     "name": "stdout",
     "output_type": "stream",
     "text": [
      "Enter the number9\n",
      "The number is Odd and Divisibal by 3\n"
     ]
    }
   ],
   "source": [
    "# 8. Write a program to print odd numbers and which are divisible by 3 too\n",
    "a = int(input(\"Enter the number\"))\n",
    "if a % 3 == 0 and a % 2 != 0:\n",
    "    print(\"The number is Odd and Divisibal by 3\")\n",
    "else:\n",
    "    print(\"No!\")"
   ]
  },
  {
   "cell_type": "code",
   "execution_count": 61,
   "id": "00b38f39",
   "metadata": {},
   "outputs": [
    {
     "name": "stdout",
     "output_type": "stream",
     "text": [
      "Enter the number10\n",
      "No!\n"
     ]
    }
   ],
   "source": [
    "# 9. Write a program to print number divisible by 7\n",
    "a = int(input(\"Enter the number\"))\n",
    "if a % 7 == 0:\n",
    "    print(\"The number is Divisibal by 7\")\n",
    "else:\n",
    "    print(\"No!\")"
   ]
  },
  {
   "cell_type": "code",
   "execution_count": 66,
   "id": "16f4dd45",
   "metadata": {},
   "outputs": [
    {
     "name": "stdout",
     "output_type": "stream",
     "text": [
      "Enter the number1\n",
      "Enter the number2\n",
      "Enter the number1\n",
      "Enter the number0\n",
      "B is Largest\n"
     ]
    }
   ],
   "source": [
    "# 10. Write a program to find largest of 4 numbers\n",
    "a = int(input(\"Enter the number\"))\n",
    "b = int(input(\"Enter the number\"))\n",
    "c = int(input(\"Enter the number\"))\n",
    "d = int(input(\"Enter the number\"))\n",
    "if a > b:\n",
    "    if a > c:\n",
    "        if a > d:\n",
    "            print(\"A is Largest\")\n",
    "        else:\n",
    "            print(\"D is Largest\")\n",
    "elif b > c:\n",
    "    if b > d:\n",
    "        print(\"B is Largest\")\n",
    "    else:\n",
    "        print(\"D is Largest\")\n",
    "elif c > d:\n",
    "    print(\"C is Largest\")\n",
    "else:\n",
    "    print(\"D is Largest\")"
   ]
  },
  {
   "cell_type": "code",
   "execution_count": null,
   "id": "45703c6c",
   "metadata": {},
   "outputs": [],
   "source": [
    "# 11. Write a program to find largest of 5 numbers\n",
    "a = int(input(\"a\"))\n",
    "b = int(input(\"b\"))\n",
    "c = int(input(\"c\"))\n",
    "d = int(input(\"d\"))\n",
    "e = int(input(\"e\"))\n",
    "\n",
    "if a > b:\n",
    "    if a > c:\n",
    "        if a > d:\n",
    "            if a > e:\n",
    "                print(\"A\")\n",
    "            else:\n",
    "                \n",
    "                print(\"E\")\n",
    "elif b > c:\n",
    "    if b > d:\n",
    "        if b > e:\n",
    "            print(\"B\")\n",
    "        else:\n",
    "            print(\"E\")\n",
    "elif c > d:\n",
    "    if c > e:\n",
    "        print(\"C\")\n",
    "    else:\n",
    "        print(\"E\")\n",
    "elif d > e:\n",
    "    print(\"D\")\n",
    "else:\n",
    "    print(\"E\")\n"
   ]
  },
  {
   "cell_type": "code",
   "execution_count": 5,
   "id": "662f29b2",
   "metadata": {},
   "outputs": [
    {
     "name": "stdout",
     "output_type": "stream",
     "text": [
      "Enter the number A = 2\n",
      "Enter the number B = 3\n",
      "Enter the number C = 5\n",
      "Enter the number D = 64\n",
      "Enter the number E = 5\n",
      "Enter the number F = 6\n",
      "D\n"
     ]
    }
   ],
   "source": [
    "#. Write a program to find largest of 6 numbers\n",
    "a = int(input(\"Enter the number A = \"))\n",
    "b = int(input(\"Enter the number B = \"))\n",
    "c = int(input(\"Enter the number C = \"))\n",
    "d = int(input(\"Enter the number D = \"))\n",
    "e = int(input(\"Enter the number E = \"))\n",
    "f = int(input(\"Enter the number F = \"))\n",
    "if a > b:\n",
    "    if a>c:\n",
    "        if a>d:\n",
    "            if a>e:\n",
    "                if a > f:\n",
    "                    print(\"A\")\n",
    "                else:\n",
    "                    print(\"F\")\n",
    "elif b>c:\n",
    "    if b > d:\n",
    "        if b >e:\n",
    "            if b > f:\n",
    "                print(\"B\")\n",
    "            else:\n",
    "                print(\"F\")\n",
    "elif c > d:\n",
    "    if c > e:\n",
    "        if c>f:\n",
    "            print(\"C\")\n",
    "        else:\n",
    "            print(\"F\")\n",
    "elif d > e:\n",
    "    if d >f:\n",
    "        print(\"D\")\n",
    "    else:\n",
    "        print(\"F\")\n",
    "elif e > f:\n",
    "    print(\"E\")\n",
    "else:\n",
    "    print(\"F\")"
   ]
  },
  {
   "cell_type": "code",
   "execution_count": null,
   "id": "f653dc31",
   "metadata": {},
   "outputs": [],
   "source": []
  }
 ],
 "metadata": {
  "kernelspec": {
   "display_name": "Python 3 (ipykernel)",
   "language": "python",
   "name": "python3"
  },
  "language_info": {
   "codemirror_mode": {
    "name": "ipython",
    "version": 3
   },
   "file_extension": ".py",
   "mimetype": "text/x-python",
   "name": "python",
   "nbconvert_exporter": "python",
   "pygments_lexer": "ipython3",
   "version": "3.9.13"
  }
 },
 "nbformat": 4,
 "nbformat_minor": 5
}
