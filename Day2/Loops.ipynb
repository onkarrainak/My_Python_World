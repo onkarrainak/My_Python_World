{
 "cells": [
  {
   "cell_type": "code",
   "execution_count": 1,
   "id": "00258b63",
   "metadata": {},
   "outputs": [
    {
     "name": "stdout",
     "output_type": "stream",
     "text": [
      "1\n",
      "10\n",
      "*******\n",
      "1\n",
      "2\n",
      "3\n",
      "4\n",
      "5\n",
      "6\n",
      "7\n",
      "8\n",
      "9\n",
      "10\n"
     ]
    }
   ],
   "source": [
    "#Q-13 print numbers from 1 to 10\n",
    "n = int(input())\n",
    "m = int(input())\n",
    "print(\"*******\")\n",
    "while n<= m:\n",
    "    print(n)\n",
    "    n+=1"
   ]
  },
  {
   "cell_type": "code",
   "execution_count": 13,
   "id": "a7888bc1",
   "metadata": {},
   "outputs": [
    {
     "name": "stdout",
     "output_type": "stream",
     "text": [
      "15\n"
     ]
    }
   ],
   "source": [
    "# Q-14 Sum of n numbers\n",
    "# n = int(input())\n",
    "i = 1\n",
    "sum = 0\n",
    "while i <= n:\n",
    "    sum += i\n",
    "    i +=1\n",
    "print(sum)"
   ]
  },
  {
   "cell_type": "code",
   "execution_count": 14,
   "id": "3f0bb98b",
   "metadata": {},
   "outputs": [
    {
     "name": "stdout",
     "output_type": "stream",
     "text": [
      "10\n",
      "30\n"
     ]
    }
   ],
   "source": [
    "# Q-15 Print sum of n even numbers\n",
    "n = int(input())\n",
    "i = 2\n",
    "sum = 0\n",
    "while i <=n:\n",
    "    sum+=i\n",
    "    i +=2\n",
    "print(sum)"
   ]
  },
  {
   "cell_type": "code",
   "execution_count": 17,
   "id": "bcf8fc99",
   "metadata": {},
   "outputs": [
    {
     "name": "stdout",
     "output_type": "stream",
     "text": [
      "10\n",
      "25\n"
     ]
    }
   ],
   "source": [
    "# Q-16 Print sum of n odd numbers\n",
    "n = int(input())\n",
    "i = 1\n",
    "sum = 0\n",
    "while i <=n:\n",
    "    if i % 2 !=0:\n",
    "        sum +=i\n",
    "    i += 1\n",
    "print(sum)"
   ]
  },
  {
   "cell_type": "code",
   "execution_count": 26,
   "id": "0f915c15",
   "metadata": {},
   "outputs": [
    {
     "name": "stdout",
     "output_type": "stream",
     "text": [
      "19\n",
      "Number is Prime\n"
     ]
    }
   ],
   "source": [
    "# Q-17 Primality checking\n",
    "n = int(input())\n",
    "flag = True\n",
    "i = 2\n",
    "while i < n:\n",
    "    if n % i == 0:\n",
    "        flag = False\n",
    "    i += 1\n",
    "if flag:\n",
    "    print(\"Number is Prime\")\n",
    "else:\n",
    "    print(\"Number is not Prime\")\n"
   ]
  },
  {
   "cell_type": "code",
   "execution_count": 34,
   "id": "caf10340",
   "metadata": {},
   "outputs": [
    {
     "name": "stdout",
     "output_type": "stream",
     "text": [
      "10\n",
      "2\n",
      "3\n",
      "5\n",
      "7\n"
     ]
    }
   ],
   "source": [
    "# Q-18 print all the prime numbers from 2 to n(both are inclusive)\n",
    "n = int(input())\n",
    "i = 2\n",
    "while i <= n:\n",
    "    flag = True\n",
    "    d= 2\n",
    "    while d < i:\n",
    "        if i%d==0:\n",
    "            flag = False\n",
    "        d += 1\n",
    "    if flag:\n",
    "        print(i)\n",
    "    i += 1"
   ]
  },
  {
   "cell_type": "code",
   "execution_count": 46,
   "id": "bd7d1230",
   "metadata": {},
   "outputs": [
    {
     "name": "stdout",
     "output_type": "stream",
     "text": [
      "10\n",
      "3\n",
      "4\n",
      "5\n",
      "6\n",
      "7\n",
      "8\n",
      "9\n",
      "10\n"
     ]
    }
   ],
   "source": [
    "# Q-19 Print all not prime numbers from 1 to n (both inclusive)\n",
    "n = int(input())\n",
    "i = 1\n",
    "while i <= n:\n",
    "    flag = False\n",
    "    d = 2\n",
    "    while d <= i:\n",
    "        if i % d != 0:\n",
    "            flag = True\n",
    "        d+=1\n",
    "    if flag:\n",
    "        print(i)\n",
    "    i += 1"
   ]
  },
  {
   "cell_type": "code",
   "execution_count": 49,
   "id": "c1e41c76",
   "metadata": {},
   "outputs": [
    {
     "name": "stdout",
     "output_type": "stream",
     "text": [
      "Enter the number = 1234\n",
      "4321\n"
     ]
    }
   ],
   "source": [
    "# Q-20. print reverse of a number.\n",
    "n = int(input(\"Enter the number = \"))\n",
    "reverse = 0\n",
    "while n > 0:\n",
    "    a = n % 10\n",
    "    reverse = reverse *10 + a\n",
    "    n = n // 10\n",
    "print(reverse)"
   ]
  },
  {
   "cell_type": "code",
   "execution_count": 52,
   "id": "66136607",
   "metadata": {},
   "outputs": [
    {
     "name": "stdout",
     "output_type": "stream",
     "text": [
      "254\n",
      "Number is Not Palindrome\n"
     ]
    }
   ],
   "source": [
    "# Q-21. check whether the number is palindrome or not\n",
    "n = int(input())\n",
    "temp = n\n",
    "reverse = 0\n",
    "while n > 0:\n",
    "    a = n % 10\n",
    "    reverse = reverse * 10 + a\n",
    "    n = n // 10\n",
    "if temp == reverse:\n",
    "    print(\"Number is Palindrome\")\n",
    "else:\n",
    "    print(\"Number is Not Palindrome\")\n",
    "    "
   ]
  },
  {
   "cell_type": "code",
   "execution_count": 54,
   "id": "38cbd5ca",
   "metadata": {},
   "outputs": [
    {
     "name": "stdout",
     "output_type": "stream",
     "text": [
      "10\n",
      "Sum of even numbers is 30\n",
      "Sum of odd numbers is 25\n"
     ]
    }
   ],
   "source": [
    "# Q-22.  Sum of even nos & sum of odd nos\n",
    "n = int(input())\n",
    "even_sum = 0\n",
    "odd_sum = 0\n",
    "i = 1\n",
    "j = 2\n",
    "while i <= n:\n",
    "    if i % 2 != 0:\n",
    "        odd_sum += i\n",
    "    i += 1\n",
    "while j <= n:\n",
    "    if j % 2 == 0:\n",
    "        even_sum += j\n",
    "    j += 1\n",
    "print(\"Sum of even numbers is\",even_sum)\n",
    "print(\"Sum of odd numbers is\",odd_sum)"
   ]
  },
  {
   "cell_type": "code",
   "execution_count": null,
   "id": "00ca488e",
   "metadata": {},
   "outputs": [],
   "source": []
  }
 ],
 "metadata": {
  "kernelspec": {
   "display_name": "Python 3",
   "language": "python",
   "name": "python3"
  },
  "language_info": {
   "codemirror_mode": {
    "name": "ipython",
    "version": 3
   },
   "file_extension": ".py",
   "mimetype": "text/x-python",
   "name": "python",
   "nbconvert_exporter": "python",
   "pygments_lexer": "ipython3",
   "version": "3.8.8"
  }
 },
 "nbformat": 4,
 "nbformat_minor": 5
}
