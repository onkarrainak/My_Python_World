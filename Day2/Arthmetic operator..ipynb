{
 "cells": [
  {
   "cell_type": "code",
   "execution_count": 5,
   "id": "9c384ca1",
   "metadata": {},
   "outputs": [
    {
     "name": "stdout",
     "output_type": "stream",
     "text": [
      "44\n",
      "10\n",
      "20\n",
      "4\n"
     ]
    }
   ],
   "source": [
    "# Q1. Do Arthmetic operator.\n",
    "a = int(input())\n",
    "b = int(input())\n",
    "c = float(input())\n",
    "d = float(input())"
   ]
  },
  {
   "cell_type": "code",
   "execution_count": 6,
   "id": "80f77775",
   "metadata": {},
   "outputs": [
    {
     "name": "stdout",
     "output_type": "stream",
     "text": [
      "54\n",
      "24.0\n"
     ]
    }
   ],
   "source": [
    "# Addition\n",
    "int_add = a + b\n",
    "float_add = c + d\n",
    "print(int_add)\n",
    "print(float_add)\n"
   ]
  },
  {
   "cell_type": "code",
   "execution_count": 7,
   "id": "e6aa0031",
   "metadata": {},
   "outputs": [
    {
     "name": "stdout",
     "output_type": "stream",
     "text": [
      "34\n",
      "16.0\n"
     ]
    }
   ],
   "source": [
    "# subtraction \n",
    "int_sub = a - b\n",
    "float_sub = c - d\n",
    "print(int_sub)\n",
    "print(float_sub)"
   ]
  },
  {
   "cell_type": "code",
   "execution_count": 8,
   "id": "164229ee",
   "metadata": {},
   "outputs": [
    {
     "name": "stdout",
     "output_type": "stream",
     "text": [
      "440\n",
      "80.0\n"
     ]
    }
   ],
   "source": [
    "# multiplication \n",
    "int_mul = a * b\n",
    "float_mul = c * d\n",
    "print(int_mul)\n",
    "print(float_mul)"
   ]
  },
  {
   "cell_type": "code",
   "execution_count": 9,
   "id": "a81cd7a2",
   "metadata": {},
   "outputs": [
    {
     "name": "stdout",
     "output_type": "stream",
     "text": [
      "4.4\n",
      "5.0\n"
     ]
    }
   ],
   "source": [
    "# Division \n",
    "int_div = a / b\n",
    "float_div = c / d\n",
    "print(int_div)\n",
    "print(float_div)"
   ]
  },
  {
   "cell_type": "code",
   "execution_count": 1,
   "id": "b33c7224",
   "metadata": {},
   "outputs": [
    {
     "name": "stdout",
     "output_type": "stream",
     "text": [
      "Enter the num1 = 4\n",
      "Enter the num2 = 5\n",
      "The Addition of two number is = 9\n"
     ]
    }
   ],
   "source": [
    "# 1> Write a program to Add two numbers\n",
    "num1 = int(input(\"Enter the num1 = \"))\n",
    "num2 = int(input(\"Enter the num2 = \"))\n",
    "add = num1 + num2;\n",
    "print(\"The Addition of two number is =\",add)"
   ]
  },
  {
   "cell_type": "code",
   "execution_count": 3,
   "id": "88dc3e5e",
   "metadata": {},
   "outputs": [
    {
     "name": "stdout",
     "output_type": "stream",
     "text": [
      "Enter the num1 = 5\n",
      "Enter the num2 = 4\n",
      "The subtraction of two number is = 1\n"
     ]
    }
   ],
   "source": [
    "# 2>Write a program to subtract two numbers\n",
    "num1 = int(input(\"Enter the num1 = \"))\n",
    "num2 = int(input(\"Enter the num2 = \"))\n",
    "sub = num1 - num2;\n",
    "print(\"The Subtraction of two number is =\",sub)"
   ]
  },
  {
   "cell_type": "code",
   "execution_count": 4,
   "id": "062ca6e1",
   "metadata": {},
   "outputs": [
    {
     "name": "stdout",
     "output_type": "stream",
     "text": [
      "Enter the num1 = 5\n",
      "Enter the num2 = 2\n",
      "The Multiplication of two number is = 10\n"
     ]
    }
   ],
   "source": [
    "# 3>Write a program to divide two numbers\n",
    "num1 = int(input(\"Enter the num1 = \"))\n",
    "num2 = int(input(\"Enter the num2 = \"))\n",
    "mul = num1 * num2;\n",
    "print(\"The Multiplication of two number is =\",mul)"
   ]
  },
  {
   "cell_type": "code",
   "execution_count": 5,
   "id": "a4e46797",
   "metadata": {},
   "outputs": [
    {
     "name": "stdout",
     "output_type": "stream",
     "text": [
      "Enter the num1 = 10\n",
      "Enter the num2 = 2\n",
      "The Division of two number is = 5.0\n"
     ]
    }
   ],
   "source": [
    "# 4>Write a program to multiply two numbers\n",
    "num1 = int(input(\"Enter the num1 = \"))\n",
    "num2 = int(input(\"Enter the num2 = \"))\n",
    "div = num1 / num2;\n",
    "print(\"The Division of two number is =\",div)"
   ]
  },
  {
   "cell_type": "code",
   "execution_count": null,
   "id": "240fc114",
   "metadata": {},
   "outputs": [],
   "source": []
  }
 ],
 "metadata": {
  "kernelspec": {
   "display_name": "Python 3",
   "language": "python",
   "name": "python3"
  },
  "language_info": {
   "codemirror_mode": {
    "name": "ipython",
    "version": 3
   },
   "file_extension": ".py",
   "mimetype": "text/x-python",
   "name": "python",
   "nbconvert_exporter": "python",
   "pygments_lexer": "ipython3",
   "version": "3.8.8"
  }
 },
 "nbformat": 4,
 "nbformat_minor": 5
}
