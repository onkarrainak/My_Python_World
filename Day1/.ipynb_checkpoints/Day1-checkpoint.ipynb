{
 "cells": [
  {
   "cell_type": "markdown",
   "id": "c521a4b5",
   "metadata": {},
   "source": [
    "Basic Programs:"
   ]
  },
  {
   "cell_type": "markdown",
   "id": "1daca4a8",
   "metadata": {},
   "source": [
    "1.Add Two Numbers with User Input."
   ]
  },
  {
   "cell_type": "code",
   "execution_count": 15,
   "id": "c0373454",
   "metadata": {},
   "outputs": [
    {
     "name": "stdout",
     "output_type": "stream",
     "text": [
      "Enter the first number. 12.3\n",
      "enter the second number. 23.4\n",
      "The sum of 12.3 and 23.4 is 35.7\n"
     ]
    }
   ],
   "source": [
    "number1 = input(\"Enter the first number. \")\n",
    "number2 = input(\"enter the second number. \")\n",
    "\n",
    "sum = float(number1) + float(number2)            # User might also enter float numbers\n",
    "\n",
    "print(\"The sum of {0} and {1} is {2}\" .format(number1,number2, sum))"
   ]
  },
  {
   "cell_type": "markdown",
   "id": "33bf3e15",
   "metadata": {},
   "source": [
    "2. Find Maximum of two numbers in Python."
   ]
  },
  {
   "cell_type": "code",
   "execution_count": 23,
   "id": "222e5950",
   "metadata": {},
   "outputs": [
    {
     "name": "stdout",
     "output_type": "stream",
     "text": [
      "Enter the first number 10\n",
      "Enter the second number 20\n",
      "Maximum number is 20\n"
     ]
    }
   ],
   "source": [
    "def maxnum(a,b):\n",
    "    if a > b:\n",
    "        print(\"first number is maximum\")\n",
    "        return a    \n",
    "    else:\n",
    "        print(\"second number is maximum\")\n",
    "        return b\n",
    "num1 = int(input(\"Enter the first number \"))\n",
    "num2 = int(input(\"Enter the second number \"))\n",
    "print(\"Maximum number is\",max(num1,num2))"
   ]
  },
  {
   "cell_type": "markdown",
   "id": "ef0d279a",
   "metadata": {},
   "source": [
    "3.Find Maximum of two numbers Using max() function"
   ]
  },
  {
   "cell_type": "code",
   "execution_count": 26,
   "id": "ed8bc670",
   "metadata": {},
   "outputs": [
    {
     "name": "stdout",
     "output_type": "stream",
     "text": [
      "Enter the First number 20.3\n",
      "Enter the Second number 20.4\n",
      "20.4\n"
     ]
    }
   ],
   "source": [
    "num1 = float(input(\"Enter the First number \"))\n",
    "num2 = float(input(\"Enter the Second number \"))\n",
    "\n",
    "maxnum=max(num1,num2)\n",
    "print(maxnum)"
   ]
  },
  {
   "cell_type": "markdown",
   "id": "b0c7f879",
   "metadata": {},
   "source": [
    "Python Program to Find the Factorial of a Number."
   ]
  },
  {
   "cell_type": "code",
   "execution_count": 40,
   "id": "64c44573",
   "metadata": {},
   "outputs": [
    {
     "name": "stdout",
     "output_type": "stream",
     "text": [
      "Enter the number 5\n",
      "Factorial of 5 is 120\n"
     ]
    }
   ],
   "source": [
    "def factorial(n):\n",
    "    \n",
    "    if n==0:\n",
    "        return 1\n",
    "    \n",
    "    return n * factorial(n-1)\n",
    "number = int(input(\"Enter the number \"))\n",
    "\n",
    "print(\"Factorial of\",number,\"is\",factorial(number))"
   ]
  },
  {
   "cell_type": "code",
   "execution_count": null,
   "id": "426c036b",
   "metadata": {},
   "outputs": [],
   "source": []
  }
 ],
 "metadata": {
  "kernelspec": {
   "display_name": "Python 3 (ipykernel)",
   "language": "python",
   "name": "python3"
  },
  "language_info": {
   "codemirror_mode": {
    "name": "ipython",
    "version": 3
   },
   "file_extension": ".py",
   "mimetype": "text/x-python",
   "name": "python",
   "nbconvert_exporter": "python",
   "pygments_lexer": "ipython3",
   "version": "3.9.13"
  }
 },
 "nbformat": 4,
 "nbformat_minor": 5
}
