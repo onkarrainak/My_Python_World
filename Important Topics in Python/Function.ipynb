{
 "cells": [
  {
   "cell_type": "code",
   "execution_count": 3,
   "id": "8b40821a",
   "metadata": {},
   "outputs": [
    {
     "name": "stdout",
     "output_type": "stream",
     "text": [
      "Enter the 1st No. =4\n",
      "Enter the 1st No. =5\n",
      "9\n"
     ]
    }
   ],
   "source": [
    "# 22.Program to add two numbers using function\n",
    "def add(x,y):\n",
    "    print(x+y)\n",
    "x = int(input(\"Enter the 1st No. =\"))\n",
    "y = int(input(\"Enter the 1st No. =\"))\n",
    "add(x,y)"
   ]
  },
  {
   "cell_type": "code",
   "execution_count": 4,
   "id": "3041f0b6",
   "metadata": {},
   "outputs": [
    {
     "name": "stdout",
     "output_type": "stream",
     "text": [
      "Enter the 1st No. =4\n",
      "Enter the 1st No. =5\n",
      "Enter the 1st No. =2\n",
      "11\n"
     ]
    }
   ],
   "source": [
    "# 23.add three numbers using functions\n",
    "def add(x,y,z):\n",
    "    print(x+y+z)\n",
    "x = int(input(\"Enter the 1st No. =\"))\n",
    "y = int(input(\"Enter the 1st No. =\"))\n",
    "z = int(input(\"Enter the 1st No. =\"))\n",
    "add(x,y,z)"
   ]
  },
  {
   "cell_type": "code",
   "execution_count": 6,
   "id": "ba0a83c6",
   "metadata": {},
   "outputs": [
    {
     "name": "stdout",
     "output_type": "stream",
     "text": [
      "Enter the fahrenheit = 100\n",
      "37.77777777777778\n"
     ]
    }
   ],
   "source": [
    "# 24.Write a program to convert fahrenheit to celsius using function\n",
    "def con(c):\n",
    "    return (5/9) * (c- 32)\n",
    "n = float(input(\"Enter the fahrenheit = \"))\n",
    "cel = con(n)\n",
    "print(cel)"
   ]
  },
  {
   "cell_type": "code",
   "execution_count": 8,
   "id": "907b1cbd",
   "metadata": {},
   "outputs": [
    {
     "name": "stdout",
     "output_type": "stream",
     "text": [
      "254\n",
      "452\n"
     ]
    }
   ],
   "source": [
    "# 25.Write a program to check whether the number is palindrome or not using function\n",
    "def check_palindrome(n):\n",
    "    m = n \n",
    "    rev = 0\n",
    "    while n > 0:\n",
    "        d = n%10\n",
    "        n = n//10\n",
    "        rev = (rev*10) + d\n",
    "    return rev\n",
    "    \n",
    "\n",
    "\n",
    "n = int(input())\n",
    "res = check_palindrome(n)\n",
    "print(res)"
   ]
  },
  {
   "cell_type": "code",
   "execution_count": 35,
   "id": "9bad96c5",
   "metadata": {},
   "outputs": [
    {
     "name": "stdout",
     "output_type": "stream",
     "text": [
      "Enter the No.=1634\n",
      "None\n",
      "1634 is not an Armstrong number\n"
     ]
    }
   ],
   "source": [
    "# 26.Write a program to check whether the number is armstrong or not using function\n",
    "def check_armstrong(): \n",
    "    temp = num\n",
    "    sum = 0\n",
    "    digit = 0\n",
    "    while temp > 0:\n",
    "        digit = temp % 10\n",
    "        sum += digit ** 3\n",
    "        temp //= 10\n",
    "num = int(input(\"Enter the No.=\"))\n",
    "arms = check_armstrong()\n",
    "print(arms)\n",
    "if num == sum:\n",
    "    print(num,\"is an Armstrong number\")\n",
    "else:\n",
    "    print(num,\"is not an Armstrong number\")\n"
   ]
  },
  {
   "cell_type": "code",
   "execution_count": null,
   "id": "eced2ede",
   "metadata": {},
   "outputs": [],
   "source": []
  }
 ],
 "metadata": {
  "kernelspec": {
   "display_name": "Python 3 (ipykernel)",
   "language": "python",
   "name": "python3"
  },
  "language_info": {
   "codemirror_mode": {
    "name": "ipython",
    "version": 3
   },
   "file_extension": ".py",
   "mimetype": "text/x-python",
   "name": "python",
   "nbconvert_exporter": "python",
   "pygments_lexer": "ipython3",
   "version": "3.9.13"
  }
 },
 "nbformat": 4,
 "nbformat_minor": 5
}
